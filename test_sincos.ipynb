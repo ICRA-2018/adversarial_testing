{
 "cells": [
  {
   "cell_type": "markdown",
   "metadata": {},
   "source": [
    "# test_sincos\n",
    "In this file we test our approach to model smooth vs non smooth components\n",
    "of a simple function:\n",
    "max(sin(x), cos(x))"
   ]
  },
  {
   "cell_type": "code",
   "execution_count": null,
   "metadata": {},
   "outputs": [],
   "source": [
    "from adversarial_testing import max_node, pred_node\n",
    "from adversarial_testing import test_module\n",
    "from adversarial_testing import delta_opt\n",
    "\n",
    "import numpy as np\n",
    "from matplotlib import pyplot as plt"
   ]
  },
  {
   "cell_type": "code",
   "execution_count": null,
   "metadata": {},
   "outputs": [],
   "source": [
    "bounds = [(0,10)]\n",
    "opt = delta_opt(bounds=bounds, epsilon=0.0001)\n",
    "\n",
    "random_ints = [1414065923,\n",
    "               2448114469,\n",
    "               1906628456,\n",
    "               2644070884,\n",
    "               24268670,\n",
    "               2664125290,\n",
    "               1182137443,\n",
    "               100813220,\n",
    "               1822558109,\n",
    "               2027862653]\n",
    "i = 0"
   ]
  },
  {
   "cell_type": "code",
   "execution_count": null,
   "metadata": {},
   "outputs": [],
   "source": [
    "%matplotlib inline\n",
    "for r in random_ints:\n",
    "    np.random.seed(r)\n",
    "    node1 = pred_node(f=lambda x:np.sin(x)+0.65)\n",
    "    node2 = pred_node(f=lambda x:np.cos(x)+0.65)\n",
    "    node0 = max_node(children=[node1, node2])\n",
    "\n",
    "    TM = test_module(bounds=bounds, sut=lambda x:x, f_tree=node0, with_ns=True,\n",
    "                 with_random=True, init_sample=5, optimizer=opt,\n",
    "                 optimize_restarts=3, exp_weight=2)\n",
    "    TM.initialize()\n",
    "    TM.run_BO(50)\n",
    "\n",
    "    plt.figure(i+1)\n",
    "    plt.plot(TM.smooth_X[5:])\n",
    "    plt.plot(TM.ns_GP.X[5:])\n",
    "    plt.plot(TM.random_X[5:])\n",
    "    plt.ylabel('Sample returned in iteration i')\n",
    "    plt.xlabel('BO iterations')\n",
    "    plt.title('Finding the minimum of max(sin(x), cos(x))')\n",
    "    i = i+1\n",
    "    plt.show()"
   ]
  },
  {
   "cell_type": "code",
   "execution_count": null,
   "metadata": {},
   "outputs": [],
   "source": []
  }
 ],
 "metadata": {
  "kernelspec": {
   "display_name": "Python 3",
   "language": "python",
   "name": "python3"
  },
  "language_info": {
   "codemirror_mode": {
    "name": "ipython",
    "version": 3
   },
   "file_extension": ".py",
   "mimetype": "text/x-python",
   "name": "python",
   "nbconvert_exporter": "python",
   "pygments_lexer": "ipython3",
   "version": "3.5.2"
  }
 },
 "nbformat": 4,
 "nbformat_minor": 2
}
