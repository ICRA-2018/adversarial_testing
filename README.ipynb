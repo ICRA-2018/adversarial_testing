{
 "cells": [
  {
   "cell_type": "markdown",
   "metadata": {},
   "source": [
    "# adversarial_testing\n",
    "<a href=\"#roslab-run\"><img src=\"https://img.shields.io/badge/ROSLab-run-brightgreen.svg\"></a>\n",
    "\n",
    "This is a python package for testing controllers for black box system in simulators\n",
    "\n",
    "# Installation\n",
    "To install,"
   ]
  },
  {
   "cell_type": "code",
   "execution_count": null,
   "metadata": {},
   "outputs": [],
   "source": [
    "python3 setup.py install --user"
   ]
  },
  {
   "cell_type": "markdown",
   "metadata": {},
   "source": [
    "This should allow you to use the package anywhere in your current environment\n",
    "\n",
    "# Tests\n",
    "The tests folder has 3 files:\n",
    "- test_sincos.py : This file shows the difference between modeling smooth and non-smooth functions using GPy\n",
    "- test_car.py: This file implements a simple linear controller on a car for obstacle avoidance. This file shows how we use KernelPCA for reducing the input space.\n",
    "- test_cartpole.py: This file tests a nearest neighbor controllder code submitted by user for the Open AI Gym environment Cartpole-v0\n",
    "\n",
    "# ROSLab Run\n",
    "\n",
    "## Prerequisites:\n",
    "* [Docker](https://www.docker.com/)\n",
    "* Tested on Ubuntu Linux 16.04, Docker version 18.06.1-ce.\n",
    "\n",
    "## 1. Clone the repository and build ROSLab image:"
   ]
  },
  {
   "cell_type": "code",
   "execution_count": null,
   "metadata": {},
   "outputs": [],
   "source": [
    "git clone https://github.com/ICRA-2018/adversarial_testing.git\n",
    "cd adversarial_testing\n",
    "./roslab_build"
   ]
  },
  {
   "cell_type": "markdown",
   "metadata": {},
   "source": [
    "## 2. Launch ROSLab image:"
   ]
  },
  {
   "cell_type": "code",
   "execution_count": null,
   "metadata": {},
   "outputs": [],
   "source": [
    "./roslab_run"
   ]
  },
  {
   "cell_type": "markdown",
   "metadata": {},
   "source": [
    "## 3. Open JupyterLab in your browser:\n",
    "[http://localhost:8888/lab/tree/README.ipynb](http://localhost:8888/lab/tree/README.ipynb)\n",
    "\n",
    "## 4. Run in JupyterLab:\n",
    "\n",
    "Open a test notebook and run all the cells.\n",
    "\n",
    "- [test_sincos](test_sincos.ipynb) : This notebook shows the difference between modeling smooth and non-smooth functions using GPy\n",
    "- [test_car](test_car.ipynb): This notebook implements a simple linear controller on a car for obstacle avoidance. This file shows how we use KernelPCA for reducing the input space."
   ]
  }
 ],

 "metadata": {
  "kernelspec": {
   "display_name": "Bash",
   "language": "bash",
   "name": "bash"
  },
  "language_info": {
   "codemirror_mode": "shell",
   "file_extension": ".sh",
   "mimetype": "text/x-sh",
   "name": "bash"
  }
 },
 "nbformat": 4,
 "nbformat_minor": 2
}
