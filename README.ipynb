{
 "cells": [
  {
   "cell_type": "markdown",
   "metadata": {},
   "source": [
    "# adversarial_testing\n",
    "This is a python package for testing controllers for black box system in simulators\n",
    "\n",
    "# Installation\n",
    "To install,"
   ]
  },
  {
   "cell_type": "code",
   "execution_count": null,
   "metadata": {},
   "outputs": [],
   "source": [
    "python3 setup.py install --user"
   ]
  },
  {
   "cell_type": "markdown",
   "metadata": {},
   "source": [
    "This should allow you to use the package anywhere in your current environment\n",
    "\n",
    "# Tests\n",
    "The tests folder has 3 files:\n",
    "- test_sincos.py : This file shows the difference between modeling smooth and non-smooth functions using GPy\n",
    "- test_car.py: This file implements a simple linear controller on a car for obstacle avoidance. This file shows how we use KernelPCA for reducing the input space.\n",
    "- test_cartpole.py: This file tests a nearest neighbor controllder code submitted by user for the Open AI Gym environment Cartpole-v0"
   ]
  }
 ],

 "metadata": {
  "kernelspec": {
   "display_name": "Bash",
   "language": "bash",
   "name": "bash"
  },
  "language_info": {
   "codemirror_mode": "shell",
   "file_extension": ".sh",
   "mimetype": "text/x-sh",
   "name": "bash"
  }
 },
 "nbformat": 4,
 "nbformat_minor": 2
}
