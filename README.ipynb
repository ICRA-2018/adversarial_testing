{
 "cells": [
  {
   "cell_type": "markdown",
   "metadata": {},
   "source": [
    "# adversarial_testing\n",
    "This is a python package for testing controllers for black box system in simulators\n",
    "\n",
    "- [test_sincos](test_sincos.ipynb) : This notebook shows the difference between modeling smooth and non-smooth functions using GPy\n",
    "- [test_car](test_car.ipynb): This notebook implements a simple linear controller on a car for obstacle avoidance. This file shows how we use KernelPCA for reducing the input space."
   ]
  }
 ],
 "metadata": {
  "kernelspec": {
   "display_name": "Bash",
   "language": "bash",
   "name": "bash"
  },
  "language_info": {
   "codemirror_mode": "shell",
   "file_extension": ".sh",
   "mimetype": "text/x-sh",
   "name": "bash"
  }
 },
 "nbformat": 4,
 "nbformat_minor": 2
}

