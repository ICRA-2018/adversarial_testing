{
 "cells": [
  {
   "cell_type": "markdown",
   "metadata": {},
   "source": [
    "# test_car\n",
    "\n",
    "In this file we test a simple car dynamics with a linear controller\n",
    "The car has to stop before the obstacle, but it gets noisy readings of the\n",
    "location of the obstacle at every time.\n",
    "We consider a horizon on length 100 and show that using KernelPCA produces\n",
    "more counterexample than using random sampling.\n",
    "\n",
    "Requirement G_[0,H] (x - x_obs) > 0 where x_obs = 5.0\n",
    "min of this is a smooth function, and so we need only one node to represent it"
   ]
  },
  {
   "cell_type": "code",
   "execution_count": null,
   "metadata": {},
   "outputs": [],
   "source": [
    "from adversarial_testing import pred_node\n",
    "from adversarial_testing import test_module\n",
    "\n",
    "import numpy as np\n",
    "import GPy"
   ]
  },
  {
   "cell_type": "code",
   "execution_count": null,
   "metadata": {},
   "outputs": [],
   "source": [
    "# Car dynamics + controller\n",
    "def car_dyn(x, x_obs, delta_t, eig1, eig2):\n",
    "    a = -(eig1+eig2)*x[1] + (eig1*eig2)*(x_obs - x[0])\n",
    "    if a < -3:\n",
    "        a = -3\n",
    "    if a > 3:\n",
    "         a = 3\n",
    "    x_t1 = x[0] + x[1] * delta_t\n",
    "    v_t1 = x[1] + a * delta_t\n",
    "    return np.array([x_t1, v_t1])\n",
    "# Set the eigen values of the closed loop control system to be -0.15, -0.25\n",
    "eig1 = 0.15\n",
    "eig2 = 0.25\n",
    "delta_t = 0.025\n",
    "def compute_traj(x0, xobs_n):\n",
    "    if len(xobs_n.shape) > 1:\n",
    "        xobs_n = xobs_n[0]\n",
    "    traj = [x0]\n",
    "    for xo in xobs_n:\n",
    "        traj.append(car_dyn(traj[-1], xo, delta_t, eig1, eig2))\n",
    "    return traj\n",
    "\n",
    "def f_prednode(traj):\n",
    "    return np.array([5 - t[0] for t in traj]).min()"
   ]
  },
  {
   "cell_type": "code",
   "execution_count": null,
   "metadata": {},
   "outputs": [],
   "source": [
    "bounds = [(4.5, 5.5)] * 100\n",
    "x0 = np.array([0., 3.])\n",
    "\n",
    "rand_nums = []\n",
    "rand_details = []\n",
    "smooth_details = []\n",
    "for _ in range(15):\n",
    "    r = np.random.randint(2**32 - 1)\n",
    "    np.random.seed(r)\n",
    "    node0 = pred_node(f=f_prednode)\n",
    "\n",
    "    TM = test_module(bounds=bounds, sut=lambda x: compute_traj(x0, x), f_tree=node0,\n",
    "                     with_random = True, init_sample = 100, optimize_restarts = 1,\n",
    "                     exp_weight = 10, kernel_type = GPy.kern.RBF)\n",
    "    TM.initialize()\n",
    "    TM.run_BO(150)\n",
    "    smooth_details.append([TM.smooth_min_val, TM.smooth_count])\n",
    "    rand_details.append([TM.rand_min_val, TM.rand_count])\n",
    "    rand_nums.append(r)"
   ]
  },
  {
   "cell_type": "code",
   "execution_count": null,
   "metadata": {},
   "outputs": [],
   "source": []
  }
 ],
 "metadata": {
  "kernelspec": {
   "display_name": "Python 3",
   "language": "python",
   "name": "python3"
  },
  "language_info": {
   "codemirror_mode": {
    "name": "ipython",
    "version": 3
   },
   "file_extension": ".py",
   "mimetype": "text/x-python",
   "name": "python",
   "nbconvert_exporter": "python",
   "pygments_lexer": "ipython3",
   "version": "3.5.2"
  }
 },
 "nbformat": 4,
 "nbformat_minor": 2
}
